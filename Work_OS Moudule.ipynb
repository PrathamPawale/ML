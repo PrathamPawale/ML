{
 "cells": [
  {
   "cell_type": "code",
   "execution_count": 1,
   "id": "9c1aa564",
   "metadata": {},
   "outputs": [],
   "source": [
    "import os"
   ]
  },
  {
   "cell_type": "code",
   "execution_count": 2,
   "id": "2b43d0a8",
   "metadata": {},
   "outputs": [
    {
     "data": {
      "text/plain": [
       "'nt'"
      ]
     },
     "execution_count": 2,
     "metadata": {},
     "output_type": "execute_result"
    }
   ],
   "source": [
    "os .name"
   ]
  },
  {
   "cell_type": "code",
   "execution_count": 6,
   "id": "f6f3543b",
   "metadata": {},
   "outputs": [
    {
     "data": {
      "text/plain": [
       "environ{'ALLUSERSPROFILE': 'C:\\\\ProgramData',\n",
       "        'APPDATA': 'C:\\\\Users\\\\Pawale\\\\AppData\\\\Roaming',\n",
       "        'COMMONPROGRAMFILES': 'C:\\\\Program Files\\\\Common Files',\n",
       "        'COMMONPROGRAMFILES(X86)': 'C:\\\\Program Files (x86)\\\\Common Files',\n",
       "        'COMMONPROGRAMW6432': 'C:\\\\Program Files\\\\Common Files',\n",
       "        'COMPUTERNAME': 'DELL',\n",
       "        'COMSPEC': 'C:\\\\Windows\\\\system32\\\\cmd.exe',\n",
       "        'FP_NO_HOST_CHECK': 'NO',\n",
       "        'HOMEDRIVE': 'C:',\n",
       "        'HOMEPATH': '\\\\Users\\\\Pawale',\n",
       "        'INTELLIJ IDEA COMMUNITY EDITION': 'C:\\\\Program Files\\\\JetBrains\\\\IntelliJ IDEA Community Edition 2021.2.1\\\\bin;',\n",
       "        'LOCALAPPDATA': 'C:\\\\Users\\\\Pawale\\\\AppData\\\\Local',\n",
       "        'LOGONSERVER': '\\\\\\\\DELL',\n",
       "        'NUMBER_OF_PROCESSORS': '4',\n",
       "        'OS': 'Windows_NT',\n",
       "        'PATH': 'C:\\\\ProgramData\\\\Anaconda3;C:\\\\ProgramData\\\\Anaconda3\\\\Library\\\\mingw-w64\\\\bin;C:\\\\ProgramData\\\\Anaconda3\\\\Library\\\\usr\\\\bin;C:\\\\ProgramData\\\\Anaconda3\\\\Library\\\\bin;C:\\\\ProgramData\\\\Anaconda3\\\\Scripts;C:\\\\Program Files\\\\Common Files\\\\Oracle\\\\Java\\\\javapath;C:\\\\Program Files\\\\Dell\\\\DW WLAN Card;;c:\\\\Program Files (x86)\\\\Intel\\\\iCLS Client\\\\;c:\\\\Program Files\\\\Intel\\\\iCLS Client\\\\;C:\\\\Windows\\\\system32;C:\\\\Windows;C:\\\\Windows\\\\System32\\\\Wbem;C:\\\\Windows\\\\System32\\\\WindowsPowerShell\\\\v1.0\\\\;C:\\\\Program Files\\\\Intel\\\\Intel(R) Management Engine Components\\\\DAL;C:\\\\Program Files\\\\Intel\\\\Intel(R) Management Engine Components\\\\IPT;C:\\\\Program Files (x86)\\\\Intel\\\\Intel(R) Management Engine Components\\\\DAL;C:\\\\Program Files (x86)\\\\Intel\\\\Intel(R) Management Engine Components\\\\IPT;c:\\\\Program Files (x86)\\\\ATI Technologies\\\\ATI.ACE\\\\Core-Static;c:\\\\Program Files\\\\WIDCOMM\\\\Bluetooth Software\\\\;c:\\\\Program Files\\\\WIDCOMM\\\\Bluetooth Software\\\\syswow64;C:\\\\Users\\\\Pawale\\\\AppData\\\\Local\\\\Programs\\\\Python\\\\Python39\\\\Scripts\\\\;C:\\\\Users\\\\Pawale\\\\AppData\\\\Local\\\\Programs\\\\Python\\\\Python39\\\\;C:\\\\Program Files\\\\JetBrains\\\\IntelliJ IDEA Community Edition 2021.2.1\\\\bin;',\n",
       "        'PATHEXT': '.COM;.EXE;.BAT;.CMD;.VBS;.VBE;.JS;.JSE;.WSF;.WSH;.MSC',\n",
       "        'PROCESSOR_ARCHITECTURE': 'AMD64',\n",
       "        'PROCESSOR_IDENTIFIER': 'Intel64 Family 6 Model 58 Stepping 9, GenuineIntel',\n",
       "        'PROCESSOR_LEVEL': '6',\n",
       "        'PROCESSOR_REVISION': '3a09',\n",
       "        'PROGRAMDATA': 'C:\\\\ProgramData',\n",
       "        'PROGRAMFILES': 'C:\\\\Program Files',\n",
       "        'PROGRAMFILES(X86)': 'C:\\\\Program Files (x86)',\n",
       "        'PROGRAMW6432': 'C:\\\\Program Files',\n",
       "        'PSMODULEPATH': 'C:\\\\Windows\\\\system32\\\\WindowsPowerShell\\\\v1.0\\\\Modules\\\\',\n",
       "        'PUBLIC': 'C:\\\\Users\\\\Public',\n",
       "        'SESSIONNAME': 'Console',\n",
       "        'SYSTEMDRIVE': 'C:',\n",
       "        'SYSTEMROOT': 'C:\\\\Windows',\n",
       "        'TEMP': 'C:\\\\Users\\\\Pawale\\\\AppData\\\\Local\\\\Temp',\n",
       "        'TMP': 'C:\\\\Users\\\\Pawale\\\\AppData\\\\Local\\\\Temp',\n",
       "        'USERDOMAIN': 'Dell',\n",
       "        'USERDOMAIN_ROAMINGPROFILE': 'Dell',\n",
       "        'USERNAME': 'Pawale',\n",
       "        'USERPROFILE': 'C:\\\\Users\\\\Pawale',\n",
       "        'WINDIR': 'C:\\\\Windows',\n",
       "        'CONDA_PREFIX': 'C:\\\\ProgramData\\\\Anaconda3',\n",
       "        'JPY_INTERRUPT_EVENT': '1912',\n",
       "        'IPY_INTERRUPT_EVENT': '1912',\n",
       "        'JPY_PARENT_PID': '1852',\n",
       "        'TERM': 'xterm-color',\n",
       "        'CLICOLOR': '1',\n",
       "        'PAGER': 'cat',\n",
       "        'GIT_PAGER': 'cat',\n",
       "        'MPLBACKEND': 'module://ipykernel.pylab.backend_inline'}"
      ]
     },
     "execution_count": 6,
     "metadata": {},
     "output_type": "execute_result"
    }
   ],
   "source": [
    "os.environ"
   ]
  },
  {
   "cell_type": "code",
   "execution_count": 7,
   "id": "d4239e86",
   "metadata": {},
   "outputs": [],
   "source": [
    "path=os.getcwd()"
   ]
  },
  {
   "cell_type": "code",
   "execution_count": 9,
   "id": "d4a7e436",
   "metadata": {},
   "outputs": [
    {
     "name": "stdout",
     "output_type": "stream",
     "text": [
      "current working dir C:\\Users\\Pawale\\Desktop\\machine learning\\libs\n"
     ]
    }
   ],
   "source": [
    "print(\"current working dir\",path)"
   ]
  },
  {
   "cell_type": "code",
   "execution_count": 29,
   "id": "6153dd6e",
   "metadata": {},
   "outputs": [],
   "source": [
    "def curr_dir():\n",
    "    print(\"current directry\")\n",
    "    print(os.getcwd())    \n",
    "    "
   ]
  },
  {
   "cell_type": "code",
   "execution_count": 157,
   "id": "b6467728",
   "metadata": {},
   "outputs": [
    {
     "name": "stdout",
     "output_type": "stream",
     "text": [
      "current directry\n",
      "C:\\Users\\Pawale\\Documents\n"
     ]
    }
   ],
   "source": [
    "curr_dir()"
   ]
  },
  {
   "cell_type": "code",
   "execution_count": 162,
   "id": "096faf9a",
   "metadata": {},
   "outputs": [],
   "source": [
    "os.chdir(r\"/Users/Pawale/Desktop/machine learning/\")"
   ]
  },
  {
   "cell_type": "code",
   "execution_count": 163,
   "id": "00c5e850",
   "metadata": {},
   "outputs": [
    {
     "name": "stdout",
     "output_type": "stream",
     "text": [
      "current directry\n",
      "C:\\Users\\Pawale\\Desktop\\machine learning\n"
     ]
    }
   ],
   "source": [
    "curr_dir()"
   ]
  },
  {
   "cell_type": "code",
   "execution_count": 123,
   "id": "88c3978a",
   "metadata": {},
   "outputs": [],
   "source": [
    "fold_name=\"crt_\""
   ]
  },
  {
   "cell_type": "code",
   "execution_count": 160,
   "id": "0e89dbb0",
   "metadata": {},
   "outputs": [
    {
     "data": {
      "text/plain": [
       "'C:\\\\'"
      ]
     },
     "execution_count": 160,
     "metadata": {},
     "output_type": "execute_result"
    }
   ],
   "source": [
    "os.getcwd()"
   ]
  },
  {
   "cell_type": "code",
   "execution_count": 158,
   "id": "1e62d8b8",
   "metadata": {},
   "outputs": [
    {
     "data": {
      "text/plain": [
       "'C:\\\\'"
      ]
     },
     "execution_count": 158,
     "metadata": {},
     "output_type": "execute_result"
    }
   ],
   "source": [
    "os.chdir(\"/\")\n",
    "os.getcwd()"
   ]
  },
  {
   "cell_type": "code",
   "execution_count": 127,
   "id": "027f8374",
   "metadata": {},
   "outputs": [],
   "source": [
    "os.mkdir(\"docs\")"
   ]
  },
  {
   "cell_type": "code",
   "execution_count": 130,
   "id": "14986d98",
   "metadata": {},
   "outputs": [],
   "source": [
    "path='c:/Users/Pawale/abc'\n",
    "os.mkdir(path)"
   ]
  },
  {
   "cell_type": "code",
   "execution_count": 173,
   "id": "244d4c0b",
   "metadata": {},
   "outputs": [
    {
     "data": {
      "text/plain": [
       "'C:\\\\Users\\\\Pawale\\\\Desktop\\\\machine learning'"
      ]
     },
     "execution_count": 173,
     "metadata": {},
     "output_type": "execute_result"
    }
   ],
   "source": [
    "os.getcwd()\n"
   ]
  },
  {
   "cell_type": "code",
   "execution_count": 132,
   "id": "60eadaea",
   "metadata": {},
   "outputs": [
    {
     "data": {
      "text/plain": [
       "True"
      ]
     },
     "execution_count": 132,
     "metadata": {},
     "output_type": "execute_result"
    }
   ],
   "source": [
    "dir_name=\"kalus\"\n",
    "path=\"c:/Users/Pawale\"\n",
    "os.path.exists(path)"
   ]
  },
  {
   "cell_type": "code",
   "execution_count": 168,
   "id": "c8c20fb3",
   "metadata": {},
   "outputs": [
    {
     "data": {
      "text/plain": [
       "'c:\\\\Users\\\\Pawale\\\\233'"
      ]
     },
     "execution_count": 168,
     "metadata": {},
     "output_type": "execute_result"
    }
   ],
   "source": [
    "os.path.abspath(\"c:/Users/Pawale/\")"
   ]
  },
  {
   "cell_type": "code",
   "execution_count": 172,
   "id": "ac422835",
   "metadata": {},
   "outputs": [],
   "source": [
    "path=\"C:/Users/Pawale/Desktop/machine learning/2014/02/19\"\n",
    "os.makedirs(path)"
   ]
  },
  {
   "cell_type": "code",
   "execution_count": 174,
   "id": "4f17f55e",
   "metadata": {},
   "outputs": [],
   "source": [
    "path=\"C:/Users/Pawale/Desktop/machine learning/a/b/c/d/e/f\"\n",
    "os.makedirs(path)"
   ]
  },
  {
   "cell_type": "code",
   "execution_count": null,
   "id": "d2b0186b",
   "metadata": {},
   "outputs": [],
   "source": []
  },
  {
   "cell_type": "code",
   "execution_count": 62,
   "id": "8359236b",
   "metadata": {},
   "outputs": [
    {
     "name": "stdout",
     "output_type": "stream",
     "text": [
      "C:\\Users\\Pawale\\Desktop\n"
     ]
    }
   ],
   "source": [
    "print(os.getcwd())"
   ]
  },
  {
   "cell_type": "code",
   "execution_count": 61,
   "id": "cb13054f",
   "metadata": {},
   "outputs": [],
   "source": [
    "os.chdir(\"./Desktop\")"
   ]
  },
  {
   "cell_type": "code",
   "execution_count": 71,
   "id": "c8123177",
   "metadata": {},
   "outputs": [],
   "source": [
    "os.mkdir('holl_movie')\n",
    "paht=r'F:\\movie'\n",
    "os.mkdir(paht)"
   ]
  },
  {
   "cell_type": "code",
   "execution_count": null,
   "id": "33798d48",
   "metadata": {},
   "outputs": [],
   "source": [
    "path1="
   ]
  },
  {
   "cell_type": "code",
   "execution_count": null,
   "id": "df6c3bba",
   "metadata": {},
   "outputs": [],
   "source": []
  }
 ],
 "metadata": {
  "kernelspec": {
   "display_name": "Python 3",
   "language": "python",
   "name": "python3"
  },
  "language_info": {
   "codemirror_mode": {
    "name": "ipython",
    "version": 3
   },
   "file_extension": ".py",
   "mimetype": "text/x-python",
   "name": "python",
   "nbconvert_exporter": "python",
   "pygments_lexer": "ipython3",
   "version": "3.8.8"
  }
 },
 "nbformat": 4,
 "nbformat_minor": 5
}
